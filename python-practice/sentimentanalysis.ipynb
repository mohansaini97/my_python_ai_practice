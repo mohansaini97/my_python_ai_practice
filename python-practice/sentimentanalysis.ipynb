{
 "cells": [
  {
   "cell_type": "code",
   "execution_count": 3,
   "metadata": {},
   "outputs": [
    {
     "name": "stdout",
     "output_type": "stream",
     "text": [
      "In this sample we will be combing through reviews customers have left about theirexperience using our skydiving company, Contoso.\n",
      "We start out with a list of reviews. Let us extract the reviews we are sure are positive, so we can display them on our website and get even more customers!\n",
      "Let's visualize the sentiment of each of these documents\n",
      "Document text: I had the best day of my life. I decided to go sky-diving and it made me appreciate my whole life so much more.\n",
      "        I developed a deep-connection with my instructor as well, and I feel as if I've made a life-long friend in her.\n",
      "Overall sentiment: positive\n",
      "Document text: This was a waste of my time. All of the views on this drop are extremely boring, all I saw was grass. 0/10 would\n",
      "        not recommend to any divers, even first timers.\n",
      "Overall sentiment: negative\n",
      "Document text: This was pretty good! The sights were ok, and I had fun with my instructors! Can't complain too much about my experience\n",
      "Overall sentiment: positive\n",
      "Document text: I only have one word for my experience: WOW!!! I can't believe I have had such a wonderful skydiving company right\n",
      "        in my backyard this whole time! I will definitely be a repeat customer, and I want to take my grandmother skydiving too,\n",
      "        I know she'll love it!\n",
      "Overall sentiment: positive\n",
      "Now, let us extract all of the positive reviews\n",
      "We want to be very cofident that our reviews are positive since we'll be posting them on our website.\n",
      "We're going to confirm our choosen reviews are positive or not using two different tests\n",
      "First, we are going to check how confident the sentiment analysis model is that a document is positive. Let's go with a 90% confidence.\n",
      "Finally, we also want to make sure every sentence is positive so we only showcase our best selves!\n",
      "Looking at positive review #1\n",
      "...Sentence 'I only have one word for my experience: WOW!!! ' has sentiment 'positive' with confidence scores '{'positive': 0.87, 'neutral': 0.11, 'negative': 0.02}'\n",
      "...Sentence 'I can't believe I have had such a wonderful skydiving company right         in my backyard this whole time! ' has sentiment 'positive' with confidence scores '{'positive': 0.86, 'neutral': 0.1, 'negative': 0.04}'\n",
      "...Sentence 'I will definitely be a repeat customer, and I want to take my grandmother skydiving too,         I know she'll love it!' has sentiment 'positive' with confidence scores '{'positive': 0.98, 'neutral': 0.02, 'negative': 0.01}'\n",
      "We now have the final list of positive reviews we are going to display on our website!\n"
     ]
    }
   ],
   "source": [
    "def sample_analyze_sentiment():\n",
    "    print(\n",
    "        \"In this sample we will be combing through reviews customers have left about their\"\n",
    "        \"experience using our skydiving company, Contoso.\"\n",
    "    )\n",
    "    print(\n",
    "        \"We start out with a list of reviews. Let us extract the reviews we are sure are \"\n",
    "        \"positive, so we can display them on our website and get even more customers!\"\n",
    "    )\n",
    "\n",
    "    # [START analyze_sentiment]\n",
    "    import os\n",
    "    from azure.core.credentials import AzureKeyCredential\n",
    "    from azure.ai.textanalytics import TextAnalyticsClient\n",
    "\n",
    "    endpoint = \"https://language9784.cognitiveservices.azure.com/\"\n",
    "    key = \"14038f3af04d454f92cd061867b540ba\"\n",
    "\n",
    "    text_analytics_client = TextAnalyticsClient(endpoint=endpoint, credential=AzureKeyCredential(key))\n",
    "\n",
    "    documents = [\n",
    "        \"\"\"I had the best day of my life. I decided to go sky-diving and it made me appreciate my whole life so much more.\n",
    "        I developed a deep-connection with my instructor as well, and I feel as if I've made a life-long friend in her.\"\"\",\n",
    "        \"\"\"This was a waste of my time. All of the views on this drop are extremely boring, all I saw was grass. 0/10 would\n",
    "        not recommend to any divers, even first timers.\"\"\",\n",
    "        \"\"\"This was pretty good! The sights were ok, and I had fun with my instructors! Can't complain too much about my experience\"\"\",\n",
    "        \"\"\"I only have one word for my experience: WOW!!! I can't believe I have had such a wonderful skydiving company right\n",
    "        in my backyard this whole time! I will definitely be a repeat customer, and I want to take my grandmother skydiving too,\n",
    "        I know she'll love it!\"\"\"\n",
    "    ]\n",
    "\n",
    "\n",
    "    result = text_analytics_client.analyze_sentiment(documents, show_opinion_mining=True)\n",
    "    docs = [doc for doc in result if not doc.is_error]\n",
    "\n",
    "    print(\"Let's visualize the sentiment of each of these documents\")\n",
    "    for idx, doc in enumerate(docs):\n",
    "        print(f\"Document text: {documents[idx]}\")\n",
    "        print(f\"Overall sentiment: {doc.sentiment}\")\n",
    "    # [END analyze_sentiment]\n",
    "\n",
    "    print(\"Now, let us extract all of the positive reviews\")\n",
    "    positive_reviews = [doc for doc in docs if doc.sentiment == 'positive']\n",
    "\n",
    "    print(\"We want to be very cofident that our reviews are positive since we'll be posting them on our website.\")\n",
    "    print(\"We're going to confirm our choosen reviews are positive or not using two different tests\")\n",
    "\n",
    "    print(\n",
    "        \"First, we are going to check how confident the sentiment analysis model is that a document is positive. \"\n",
    "        \"Let's go with a 90% confidence.\"\n",
    "    )\n",
    "    positive_reviews = [\n",
    "        review for review in positive_reviews\n",
    "        if review.confidence_scores.positive >= 0.9\n",
    "    ]\n",
    "\n",
    "    print(\n",
    "        \"Finally, we also want to make sure every sentence is positive so we only showcase our best selves!\"\n",
    "    )\n",
    "    positive_reviews_final = []\n",
    "    for idx, review in enumerate(positive_reviews):\n",
    "        print(f\"Looking at positive review #{idx + 1}\")\n",
    "        any_sentence_not_positive = False\n",
    "        for sentence in review.sentences:\n",
    "            print(\"...Sentence '{}' has sentiment '{}' with confidence scores '{}'\".format(\n",
    "                sentence.text,\n",
    "                sentence.sentiment,\n",
    "                sentence.confidence_scores\n",
    "                )\n",
    "            )\n",
    "            if sentence.sentiment != 'positive':\n",
    "                any_sentence_not_positive = True\n",
    "        if not any_sentence_not_positive:\n",
    "            positive_reviews_final.append(review)\n",
    "\n",
    "    print(\"We now have the final list of positive reviews we are going to display on our website!\")\n",
    "\n",
    "\n",
    "if __name__ == '__main__':\n",
    "    sample_analyze_sentiment()"
   ]
  },
  {
   "cell_type": "code",
   "execution_count": null,
   "metadata": {},
   "outputs": [],
   "source": []
  },
  {
   "cell_type": "code",
   "execution_count": 5,
   "metadata": {},
   "outputs": [
    {
     "name": "stdout",
     "output_type": "stream",
     "text": [
      "In this sample we will be combing through reviews customers have left about theirexperience using our skydiving company, Contoso.\n",
      "We start out with a list of reviews. Let us extract the reviews we are sure are positive, so we can display them on our website and get even more customers!\n"
     ]
    }
   ],
   "source": [
    "\n",
    "print(\n",
    "    \"In this sample we will be combing through reviews customers have left about their\"\n",
    "    \"experience using our skydiving company, Contoso.\"\n",
    ")\n",
    "print(\n",
    "    \"We start out with a list of reviews. Let us extract the reviews we are sure are \"\n",
    "    \"positive, so we can display them on our website and get even more customers!\"\n",
    ")\n",
    "\n",
    "# [START analyze_sentiment]\n",
    "import os\n",
    "from azure.core.credentials import AzureKeyCredential\n",
    "from azure.ai.textanalytics import TextAnalyticsClient\n",
    "\n",
    "endpoint = \"https://language9784.cognitiveservices.azure.com/\"\n",
    "key = \"14038f3af04d454f92cd061867b540ba\"\n",
    "\n",
    "text_analytics_client = TextAnalyticsClient(endpoint=endpoint, credential=AzureKeyCredential(key))\n",
    "\n",
    "documents = [\n",
    "    \"\"\"I had the best day of my life. I decided to go sky-diving and it made me appreciate my whole life so much more.\n",
    "    I developed a deep-connection with my instructor as well, and I feel as if I've made a life-long friend in her.\"\"\",\n",
    "    \"\"\"This was a waste of my time. All of the views on this drop are extremely boring, all I saw was grass. 0/10 would\n",
    "    not recommend to any divers, even first timers.\"\"\",\n",
    "    \"\"\"This was pretty good! The sights were ok, and I had fun with my instructors! Can't complain too much about my experience\"\"\",\n",
    "    \"\"\"I only have one word for my experience: WOW!!! I can't believe I have had such a wonderful skydiving company right\n",
    "    in my backyard this whole time! I will definitely be a repeat customer, and I want to take my grandmother skydiving too,\n",
    "    I know she'll love it!\"\"\"\n",
    "]\n",
    "\n",
    "\n",
    "result = text_analytics_client.analyze_sentiment(documents, show_opinion_mining=True)\n",
    "docs = [doc for doc in result if not doc.is_error]\n",
    "#[AnalyzeSentimentResult(id=0, sentiment=positive, warnings=[], statistics=None, confidence_scores=SentimentConfidenceScores(positive=0.78, neutral=0.19, negative=0.03), sentences=[SentenceSentiment(text=I had the best day of my life. , sentiment=positive, confidence_scores=SentimentConfidenceScores(positive=0.94, neutral=0.04, negative=0.02), length=31, offset=0, mined_opinions=[]), SentenceSentiment(text=I decided to go sky-diving and it made me appreciate my whole life so much more.     , sentiment=positive, confidence_scores=SentimentConfidenceScores(positive=0.79, neutral=0.18, negative=0.04), length=85, offset=31, mined_opinions=[MinedOpinion(target=TargetSentiment(text=sky-diving, sentiment=positive, confidence_scores=SentimentConfidenceScores(positive=1.0, neutral=0.0, negative=0.0), length=10, offset=47), assessments=[AssessmentSentiment(text=appreciate, sentiment=positive, confidence_scores=SentimentConfidenceScores(positive=1.0, neutral=0.0, negative=0.0), length=10, offset=73, is_negated=False)])]),,\n",
    "# AnalyzeSentimentResult(id=1, sentiment=negative, warnings=[], statistics=None, confidence_scores=SentimentConfidenceScores(positive=0.0, neutral=0.01, negative=0.98), sentences=[SentenceSentiment(text=This was a waste of my time. , sentiment=negative, confidence_scores=SentimentConfidenceScores(positive=0.0, neutral=0.01, negative=0.99), length=29, offset=0, mined_opinions=[]), SentenceSentiment(text=All of the views on this drop are extremely boring, all I saw was grass. , sentiment=negative, confidence_scores=SentimentConfidenceScores(positive=0.0, neutral=0.03, negative=0.97), length=73, offset=29, mined_opinions=[MinedOpinion(target=TargetSentiment(text=views, sentiment=negative, confidence_scores=SentimentConfidenceScores(positive=0.03, neutral=0.0, negative=0.97), length=5, offset=40), assessments=[AssessmentSentiment(text=boring, sentiment=negative, confidence_scores=SentimentConfidenceScores(positive=0.03, neutral=0.0, negative=0.97), length=6, offset=73, is_negated=False)])]), SentenceSentiment(text=,\n",
    "# AnalyzeSentimentResult(id=2, sentiment=positive, warnings=[], statistics=None, confidence_scores=SentimentConfidenceScores(positive=0.89, neutral=0.04, negative=0.07), sentences=[SentenceSentiment(text=This was pretty good! , sentiment=positive, confidence_scores=SentimentConfidenceScores(positive=0.99, neutral=0.0, negative=0.0), length=22, offset=0, mined_opinions=[]), SentenceSentiment(text=The sights were ok, and I had fun with my instructors! , sentiment=positive, confidence_scores=SentimentConfidenceScores(positive=0.99, neutral=0.01, negative=0.0), length=55, offset=22, mined_opinions=[MinedOpinion(target=TargetSentiment(text=sights, sentiment=positive, confidence_scores=SentimentConfidenceScores(positive=1.0, neutral=0.0, negative=0.0), length=6, offset=26), assessments=[AssessmentSentiment(text=ok, sentiment=mixed, confidence_scores=SentimentConfidenceScores(positive=1.0, neutral=0.0, negative=0.0), length=2, offset=38, is_negated=False)])]), SentenceSentiment(text=Can't complain too much about my ex,\n",
    "# AnalyzeSentimentResult(id=3, sentiment=positive, warnings=[], statistics=None, confidence_scores=SentimentConfidenceScores(positive=0.9, neutral=0.07, negative=0.02), sentences=[SentenceSentiment(text=I only have one word for my experience: WOW!!! , sentiment=positive, confidence_scores=SentimentConfidenceScores(positive=0.87, neutral=0.11, negative=0.02), length=47, offset=0, mined_opinions=[MinedOpinion(target=TargetSentiment(text=experience, sentiment=positive, confidence_scores=SentimentConfidenceScores(positive=1.0, neutral=0.0, negative=0.0), length=10, offset=28), assessments=[AssessmentSentiment(text=WOW, sentiment=positive, confidence_scores=SentimentConfidenceScores(positive=1.0, neutral=0.0, negative=0.0), length=3, offset=40, is_negated=False)])]), SentenceSentiment(text=I can't believe I have had such a wonderful skydiving company right     in my backyard this whole time! , sentiment=positive, confidence_scores=SentimentConfidenceScores(positive=0.86, neutral=0.1, negative=0.04), length=104, offs]\n",
    "                                                                                                                                                                                                                                                                                                                                                                                                                                                                                                                                                                                                                                                                                                                                                                                                                      "
   ]
  },
  {
   "cell_type": "code",
   "execution_count": 6,
   "metadata": {},
   "outputs": [
    {
     "data": {
      "text/plain": [
       "[AnalyzeSentimentResult(id=0, sentiment=positive, warnings=[], statistics=None, confidence_scores=SentimentConfidenceScores(positive=0.78, neutral=0.19, negative=0.03), sentences=[SentenceSentiment(text=I had the best day of my life. , sentiment=positive, confidence_scores=SentimentConfidenceScores(positive=0.94, neutral=0.04, negative=0.02), length=31, offset=0, mined_opinions=[]), SentenceSentiment(text=I decided to go sky-diving and it made me appreciate my whole life so much more.     , sentiment=positive, confidence_scores=SentimentConfidenceScores(positive=0.79, neutral=0.18, negative=0.04), length=85, offset=31, mined_opinions=[MinedOpinion(target=TargetSentiment(text=sky-diving, sentiment=positive, confidence_scores=SentimentConfidenceScores(positive=1.0, neutral=0.0, negative=0.0), length=10, offset=47), assessments=[AssessmentSentiment(text=appreciate, sentiment=positive, confidence_scores=SentimentConfidenceScores(positive=1.0, neutral=0.0, negative=0.0), length=10, offset=73, is_negated=False)])]),,\n",
       " AnalyzeSentimentResult(id=1, sentiment=negative, warnings=[], statistics=None, confidence_scores=SentimentConfidenceScores(positive=0.0, neutral=0.01, negative=0.98), sentences=[SentenceSentiment(text=This was a waste of my time. , sentiment=negative, confidence_scores=SentimentConfidenceScores(positive=0.0, neutral=0.01, negative=0.99), length=29, offset=0, mined_opinions=[]), SentenceSentiment(text=All of the views on this drop are extremely boring, all I saw was grass. , sentiment=negative, confidence_scores=SentimentConfidenceScores(positive=0.0, neutral=0.03, negative=0.97), length=73, offset=29, mined_opinions=[MinedOpinion(target=TargetSentiment(text=views, sentiment=negative, confidence_scores=SentimentConfidenceScores(positive=0.03, neutral=0.0, negative=0.97), length=5, offset=40), assessments=[AssessmentSentiment(text=boring, sentiment=negative, confidence_scores=SentimentConfidenceScores(positive=0.03, neutral=0.0, negative=0.97), length=6, offset=73, is_negated=False)])]), SentenceSentiment(text=,\n",
       " AnalyzeSentimentResult(id=2, sentiment=positive, warnings=[], statistics=None, confidence_scores=SentimentConfidenceScores(positive=0.89, neutral=0.04, negative=0.07), sentences=[SentenceSentiment(text=This was pretty good! , sentiment=positive, confidence_scores=SentimentConfidenceScores(positive=0.99, neutral=0.0, negative=0.0), length=22, offset=0, mined_opinions=[]), SentenceSentiment(text=The sights were ok, and I had fun with my instructors! , sentiment=positive, confidence_scores=SentimentConfidenceScores(positive=0.99, neutral=0.01, negative=0.0), length=55, offset=22, mined_opinions=[MinedOpinion(target=TargetSentiment(text=sights, sentiment=positive, confidence_scores=SentimentConfidenceScores(positive=1.0, neutral=0.0, negative=0.0), length=6, offset=26), assessments=[AssessmentSentiment(text=ok, sentiment=mixed, confidence_scores=SentimentConfidenceScores(positive=1.0, neutral=0.0, negative=0.0), length=2, offset=38, is_negated=False)])]), SentenceSentiment(text=Can't complain too much about my ex,\n",
       " AnalyzeSentimentResult(id=3, sentiment=positive, warnings=[], statistics=None, confidence_scores=SentimentConfidenceScores(positive=0.9, neutral=0.07, negative=0.02), sentences=[SentenceSentiment(text=I only have one word for my experience: WOW!!! , sentiment=positive, confidence_scores=SentimentConfidenceScores(positive=0.87, neutral=0.11, negative=0.02), length=47, offset=0, mined_opinions=[MinedOpinion(target=TargetSentiment(text=experience, sentiment=positive, confidence_scores=SentimentConfidenceScores(positive=1.0, neutral=0.0, negative=0.0), length=10, offset=28), assessments=[AssessmentSentiment(text=WOW, sentiment=positive, confidence_scores=SentimentConfidenceScores(positive=1.0, neutral=0.0, negative=0.0), length=3, offset=40, is_negated=False)])]), SentenceSentiment(text=I can't believe I have had such a wonderful skydiving company right     in my backyard this whole time! , sentiment=positive, confidence_scores=SentimentConfidenceScores(positive=0.86, neutral=0.1, negative=0.04), length=104, offs]"
      ]
     },
     "execution_count": 6,
     "metadata": {},
     "output_type": "execute_result"
    }
   ],
   "source": [
    "docs"
   ]
  },
  {
   "cell_type": "code",
   "execution_count": null,
   "metadata": {},
   "outputs": [],
   "source": []
  },
  {
   "cell_type": "code",
   "execution_count": null,
   "metadata": {},
   "outputs": [],
   "source": [
    "\n",
    "print(\"Let's visualize the sentiment of each of these documents\")\n",
    "for idx, doc in enumerate(docs):\n",
    "    print(f\"Document text: {documents[idx]}\")\n",
    "    print(f\"Overall sentiment: {doc.sentiment}\")\n",
    "# [END analyze_sentiment]\n",
    "\n",
    "print(\"Now, let us extract all of the positive reviews\")\n",
    "positive_reviews = [doc for doc in docs if doc.sentiment == 'positive']\n",
    "\n",
    "print(\"We want to be very cofident that our reviews are positive since we'll be posting them on our website.\")\n",
    "print(\"We're going to confirm our choosen reviews are positive or not using two different tests\")\n",
    "\n",
    "print(\n",
    "    \"First, we are going to check how confident the sentiment analysis model is that a document is positive. \"\n",
    "    \"Let's go with a 90% confidence.\"\n",
    ")\n",
    "positive_reviews = [\n",
    "    review for review in positive_reviews\n",
    "    if review.confidence_scores.positive >= 0.9\n",
    "]\n",
    "\n",
    "print(\n",
    "    \"Finally, we also want to make sure every sentence is positive so we only showcase our best selves!\"\n",
    ")\n",
    "positive_reviews_final = []\n",
    "for idx, review in enumerate(positive_reviews):\n",
    "    print(f\"Looking at positive review #{idx + 1}\")\n",
    "    any_sentence_not_positive = False\n",
    "    for sentence in review.sentences:\n",
    "        print(\"...Sentence '{}' has sentiment '{}' with confidence scores '{}'\".format(\n",
    "            sentence.text,\n",
    "            sentence.sentiment,\n",
    "            sentence.confidence_scores\n",
    "            )\n",
    "        )\n",
    "        if sentence.sentiment != 'positive':\n",
    "            any_sentence_not_positive = True\n",
    "    if not any_sentence_not_positive:\n",
    "        positive_reviews_final.append(review)\n",
    "\n",
    "print(\"We now have the final list of positive reviews we are going to display on our website!\")\n",
    "\n"
   ]
  },
  {
   "cell_type": "code",
   "execution_count": null,
   "metadata": {},
   "outputs": [],
   "source": []
  },
  {
   "cell_type": "code",
   "execution_count": null,
   "metadata": {},
   "outputs": [],
   "source": [
    "\n",
    "\n"
   ]
  },
  {
   "cell_type": "code",
   "execution_count": null,
   "metadata": {},
   "outputs": [],
   "source": []
  },
  {
   "cell_type": "code",
   "execution_count": null,
   "metadata": {},
   "outputs": [],
   "source": []
  },
  {
   "cell_type": "code",
   "execution_count": null,
   "metadata": {},
   "outputs": [],
   "source": []
  },
  {
   "cell_type": "code",
   "execution_count": null,
   "metadata": {},
   "outputs": [],
   "source": []
  },
  {
   "cell_type": "code",
   "execution_count": null,
   "metadata": {},
   "outputs": [],
   "source": []
  },
  {
   "cell_type": "code",
   "execution_count": null,
   "metadata": {},
   "outputs": [],
   "source": []
  },
  {
   "cell_type": "code",
   "execution_count": null,
   "metadata": {},
   "outputs": [],
   "source": []
  },
  {
   "cell_type": "code",
   "execution_count": null,
   "metadata": {},
   "outputs": [],
   "source": []
  },
  {
   "cell_type": "code",
   "execution_count": null,
   "metadata": {},
   "outputs": [],
   "source": []
  },
  {
   "cell_type": "code",
   "execution_count": null,
   "metadata": {},
   "outputs": [],
   "source": []
  },
  {
   "cell_type": "code",
   "execution_count": null,
   "metadata": {},
   "outputs": [],
   "source": []
  }
 ],
 "metadata": {
  "kernelspec": {
   "display_name": "Python 3",
   "language": "python",
   "name": "python3"
  },
  "language_info": {
   "codemirror_mode": {
    "name": "ipython",
    "version": 3
   },
   "file_extension": ".py",
   "mimetype": "text/x-python",
   "name": "python",
   "nbconvert_exporter": "python",
   "pygments_lexer": "ipython3",
   "version": "3.12.2"
  }
 },
 "nbformat": 4,
 "nbformat_minor": 2
}
