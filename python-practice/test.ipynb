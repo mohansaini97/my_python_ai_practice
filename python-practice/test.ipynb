{
 "cells": [
  {
   "cell_type": "code",
   "execution_count": 2,
   "metadata": {},
   "outputs": [],
   "source": [
    "import os\n",
    "import typing\n",
    "from azure.core.credentials import AzureKeyCredential\n",
    "from azure.ai.textanalytics import TextAnalyticsClient\n",
    "\n",
    "endpoint = \"https://language9784.cognitiveservices.azure.com/\"\n",
    "key = \"14038f3af04d454f92cd061867b540ba\"\n",
    "\n",
    "text_analytics_client = TextAnalyticsClient(endpoint=endpoint, credential=AzureKeyCredential(key))\n",
    "reviews = [\n",
    "    \"\"\"I work for Foo Company, and we hired Contoso for our annual founding ceremony. The food\n",
    "    was amazing and we all can't say enough good words about the quality and the level of service.\"\"\",\n",
    "    \"\"\"We at the Foo Company re-hired Contoso after all of our past successes with the company.\n",
    "    Though the food was still great, I feel there has been a quality drop since their last time\n",
    "    catering for us. Is anyone else running into the same problem?\"\"\",\n",
    "    \"\"\"Bar Company is over the moon about the service we received from Contoso, the best sliders ever!!!!\"\"\"\n",
    "]\n",
    "\n",
    "result = text_analytics_client.recognize_entities(reviews)"
   ]
  },
  {
   "cell_type": "code",
   "execution_count": 3,
   "metadata": {},
   "outputs": [
    {
     "data": {
      "text/plain": [
       "[RecognizeEntitiesResult(id=0, entities=[CategorizedEntity(text=Foo Company, category=Organization, subcategory=None, length=11, offset=11, confidence_score=0.98), CategorizedEntity(text=Contoso, category=Person, subcategory=None, length=7, offset=37, confidence_score=0.84), CategorizedEntity(text=annual, category=DateTime, subcategory=Set, length=6, offset=53, confidence_score=1.0), CategorizedEntity(text=founding ceremony, category=Event, subcategory=None, length=17, offset=60, confidence_score=0.88), CategorizedEntity(text=food, category=Product, subcategory=None, length=4, offset=83, confidence_score=0.74)], warnings=[], statistics=None, is_error=False, kind=EntityRecognition),\n",
       " RecognizeEntitiesResult(id=1, entities=[CategorizedEntity(text=Foo Company, category=Organization, subcategory=None, length=11, offset=10, confidence_score=1.0), CategorizedEntity(text=Contoso, category=Person, subcategory=None, length=7, offset=31, confidence_score=1.0), CategorizedEntity(text=food, category=Product, subcategory=None, length=4, offset=104, confidence_score=0.85)], warnings=[], statistics=None, is_error=False, kind=EntityRecognition),\n",
       " RecognizeEntitiesResult(id=2, entities=[CategorizedEntity(text=Bar Company, category=Organization, subcategory=None, length=11, offset=0, confidence_score=0.98), CategorizedEntity(text=service, category=Skill, subcategory=None, length=7, offset=39, confidence_score=0.97), CategorizedEntity(text=Contoso, category=Person, subcategory=None, length=7, offset=64, confidence_score=0.73), CategorizedEntity(text=sliders, category=Product, subcategory=None, length=7, offset=82, confidence_score=0.77)], warnings=[], statistics=None, is_error=False, kind=EntityRecognition)]"
      ]
     },
     "execution_count": 3,
     "metadata": {},
     "output_type": "execute_result"
    }
   ],
   "source": [
    "result"
   ]
  },
  {
   "cell_type": "code",
   "execution_count": null,
   "metadata": {},
   "outputs": [],
   "source": [
    "\n",
    "result = [review for review in result if not review.is_error]\n",
    "organization_to_reviews: typing.Dict[str, typing.List[str]] = {}\n"
   ]
  },
  {
   "cell_type": "code",
   "execution_count": null,
   "metadata": {},
   "outputs": [],
   "source": []
  }
 ],
 "metadata": {
  "kernelspec": {
   "display_name": "Python 3",
   "language": "python",
   "name": "python3"
  },
  "language_info": {
   "codemirror_mode": {
    "name": "ipython",
    "version": 3
   },
   "file_extension": ".py",
   "mimetype": "text/x-python",
   "name": "python",
   "nbconvert_exporter": "python",
   "pygments_lexer": "ipython3",
   "version": "3.12.2"
  }
 },
 "nbformat": 4,
 "nbformat_minor": 2
}
